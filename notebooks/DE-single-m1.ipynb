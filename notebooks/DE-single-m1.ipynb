{
 "cells": [
  {
   "cell_type": "markdown",
   "metadata": {},
   "source": [
    "This is the `R` code `DE-single-m1.R` pulled from https://github.com/eurostat/panelvar/blob/master/model/DE-single-m1.R.\n",
    "This example can be adapted to run all [other models](https://github.com/eurostat/panelvar/blob/master/model) available in the [`panelvar`](https://github.com/eurostat/panelvar) project."
   ]
  },
  {
   "cell_type": "markdown",
   "metadata": {},
   "source": [
    "Load functions:"
   ]
  },
  {
   "cell_type": "code",
   "execution_count": 2,
   "metadata": {},
   "outputs": [
    {
     "ename": "ERROR",
     "evalue": "Error in library(\"zoo\"): there is no package called ‘zoo’\n",
     "output_type": "error",
     "traceback": [
      "Error in library(\"zoo\"): there is no package called ‘zoo’\nTraceback:\n",
      "1. library(\"zoo\")"
     ]
    }
   ],
   "source": [
    "library(\"zoo\")\n",
    "library(\"lubridate\")\n",
    "library(\"forecast\")\n",
    "library(\"imputeTS\")"
   ]
  },
  {
   "cell_type": "markdown",
   "metadata": {},
   "source": [
    "Define working directories:"
   ]
  },
  {
   "cell_type": "code",
   "execution_count": 3,
   "metadata": {},
   "outputs": [
    {
     "ename": "ERROR",
     "evalue": "Error in dirname(sys.frame(1)$ofile): a character vector argument expected\n",
     "output_type": "error",
     "traceback": [
      "Error in dirname(sys.frame(1)$ofile): a character vector argument expected\nTraceback:\n",
      "1. dirname(sys.frame(1)$ofile)"
     ]
    }
   ],
   "source": [
    "wd1 <- dirname(sys.frame(1)$ofile) # absolute path to current directory\n",
    "wd2 <- \"../data/input\" # relative paths from wd1\n",
    "wd3 <- \"../data/output/\""
   ]
  },
  {
   "cell_type": "markdown",
   "metadata": {},
   "source": [
    "User settings. For the quarterly file, you can only use GDP: 1:GDP, 2:UNR, 3:IP, 4:CPI, 5:FF."
   ]
  },
  {
   "cell_type": "code",
   "execution_count": 4,
   "metadata": {},
   "outputs": [],
   "source": [
    "itarg <- 3\n",
    "jtarg <- c(4,5)\n",
    "hh <- c(1,3,6,12)  # > 0\n",
    "ibench <- \"AR(1)\"\n",
    "hbounds <- FALSE    # if TRUE, then sigmah*sqrt(h) is used in the bounds otherwise sigmah"
   ]
  },
  {
   "cell_type": "markdown",
   "metadata": {},
   "source": [
    "Load some additional functions:"
   ]
  },
  {
   "cell_type": "code",
   "execution_count": 5,
   "metadata": {},
   "outputs": [
    {
     "ename": "ERROR",
     "evalue": "Error in setwd(wd1): object 'wd1' not found\n",
     "output_type": "error",
     "traceback": [
      "Error in setwd(wd1): object 'wd1' not found\nTraceback:\n",
      "1. setwd(wd1)"
     ]
    }
   ],
   "source": [
    "setwd(wd1)\n",
    "source(\"functions.R\")"
   ]
  },
  {
   "cell_type": "markdown",
   "metadata": {},
   "source": [
    "Load data:"
   ]
  },
  {
   "cell_type": "code",
   "execution_count": null,
   "metadata": {},
   "outputs": [],
   "source": [
    "setwd(wd2)\n",
    "\n",
    "ZM <- load.data(as.matrix(read.csv(\"DE-M.csv\", header=FALSE)))\n",
    "ZD <- load.data(as.matrix(read.csv(\"DE-D.csv\", header=FALSE)))\n",
    "ZG <- load.data(as.matrix(read.csv(\"DE-Google.csv\", header=FALSE)))"
   ]
  },
  {
   "cell_type": "markdown",
   "metadata": {},
   "source": [
    "Switch back so you can use other functions:"
   ]
  },
  {
   "cell_type": "code",
   "execution_count": null,
   "metadata": {},
   "outputs": [],
   "source": [
    "setwd(wd1)"
   ]
  },
  {
   "cell_type": "markdown",
   "metadata": {},
   "source": [
    "We have different dates for macrofinance, Google and Reuters. Make sure we use the same dates everywhere."
   ]
  },
  {
   "cell_type": "code",
   "execution_count": null,
   "metadata": {},
   "outputs": [],
   "source": [
    "ds <- max(c(min(ZM$dates), min(ZD$dates), min(ZG$dates)))\n",
    "de <- min(c(max(ZM$dates), max(ZD$dates), max(ZG$dates)))\n",
    "\n",
    "xselM <- (ZM$dates>=ds) & (ZM$dates<=de)\n",
    "xselD <- (ZD$dates>=ds) & (ZD$dates<=de)\n",
    "xselG <- (ZG$dates>=ds) & (ZG$dates<=de)\n",
    "\n",
    "XM <- ZM$values[xselM,]\n",
    "XD <- ZD$values[xselD,]\n",
    "XG <- ZG$values[xselG,]"
   ]
  },
  {
   "cell_type": "markdown",
   "metadata": {},
   "source": [
    "Run the calculation:"
   ]
  },
  {
   "cell_type": "code",
   "execution_count": null,
   "metadata": {},
   "outputs": [],
   "source": [
    "for(jh in 1:NROW(hh))\n",
    "{\n",
    "  setwd(wd1)\n",
    "  \n",
    "  h <- hh[jh]\n",
    "  # give name\n",
    "  give.name <- paste(\"DE-M-itarg345\", itarg, \"-h\", h, sep=\"\")\n",
    "\n",
    "  # make sure you start the loop on the same date\n",
    "  iinfrom <- \"2007-01-31\"\n",
    "  ifrom <- which(rownames(XM)==iinfrom)\n",
    "  \n",
    "  # prepare matrices for storage\n",
    "  mnams <- c(\"Naive\", \"AR(1)\",\n",
    "             \"LR-MF-T1\", \"LR-G-T1\", \"LR-MFGR-T1\",\n",
    "             \"LR-MF-T2\", \"LR-G-T2\", \"LR-MFGR-T2\",\n",
    "             \"AR(1)-MF-T1\", \"AR(1)-G-T1\", \"AR(1)-MFGR-T1\",\n",
    "             \"AR(1)-MF-T2\", \"AR(1)-G-T2\", \"AR(1)-MFGR-T2\",\n",
    "             \"VAR(1)\",\n",
    "             \"VARX(1)-MF-T1\", \"VARX(1)-G-T1\", \"VARX(1)-MFGR-T1\",\n",
    "             \"VARX(1)-MF-T2\", \"VARX(1)-G-T2\", \"VARX(1)-MFGR-T2\")\n",
    "  fest <- matrix(NA, NROW(XM), NROW(mnams))\n",
    "  rownames(fest) <- rownames(XM)\n",
    "  colnames(fest) <- mnams\n",
    "  \n",
    "  pintv <- seq(0, 1, 0.01)\n",
    "  fquant <- array(NA, c(NROW(fest), NROW(pintv), NROW(mnams)),\n",
    "                           dimnames=list(rownames(fest), as.character(pintv), mnams))\n",
    "  \n",
    "  for(i in ifrom:(NROW(XM)-h))\n",
    "  {\n",
    "    # in-sample\n",
    "    xm <- XM[1:i, ]\n",
    "    dm <- as.Date(rownames(xm))\n",
    "    xd <- make.data.DWtoW(dm, XD)\n",
    "    xg <- make.data.DWtoW(dm, XG)\n",
    "    \n",
    "    # if NAs use interpolation\n",
    "    xd <- apply(xd, 2, na_interpolation, option=\"linear\")\n",
    "    xg <- apply(xg, 2, na_interpolation, option=\"linear\")\n",
    "\n",
    "    # Transform all variables\n",
    "    xms <- transform.vars(xm, ZM$transf)\n",
    "    xds <- transform.vars(xd, ZD$transf)\n",
    "    xgs <- transform.vars(xg, ZG$transf)\n",
    "\n",
    "    # Extract weekly factors using PCA\n",
    "    Fw <- na.omit(xds); rnams <- rownames(Fw)\n",
    "    Fw <- getPCA(Fw); rownames(Fw) <- rnams\n",
    "    Fg <- na.omit(xgs); rnams <- rownames(Fg)\n",
    "    Fg <- getPCA(Fg);  rownames(Fg) <- rnams\n",
    "    \n",
    "    # Extract target\n",
    "    y <- as.matrix(xms[,ZM$target==itarg])\n",
    "    \n",
    "    # Also extract the other 2 variables for the simple VAR\n",
    "    x1 <- as.matrix(xms[,ZM$target==jtarg[1]])\n",
    "    x2 <- as.matrix(xms[,ZM$target==jtarg[2]])\n",
    "    xx <- cbind(x1, x2)\n",
    "    colnames(xx) <- paste(\"X\", 1:NCOL(xx), sep=\"\")\n",
    "    \n",
    "    # Transform weekly factors to monthly\n",
    "    # according to the dates\n",
    "    xF1 <- make.data.WtoM1(as.Date(rownames(y)), as.matrix(Fw[,1]))\n",
    "    xG1 <- make.data.WtoM1(as.Date(rownames(y)), as.matrix(Fg[,1]))\n",
    "    xFGR1 <- cbind(xF1, xG1)\n",
    "    \n",
    "    xF2 <- make.data.WtoM2(as.Date(rownames(y)), as.matrix(Fw[,1]))\n",
    "    xG2 <- make.data.WtoM2(as.Date(rownames(y)), as.matrix(Fg[,1]))\n",
    "    xFGR2 <- cbind(xF2, xG2)\n",
    "    \n",
    "    # make a lag\n",
    "    yL1 <- as.matrix(c(NA, y[1:(NROW(y)-1),]))\n",
    "    \n",
    "    # make forecasts\n",
    "    imodel <- \"Naive\"; z <- y; source(\"naive.R\")\n",
    "    fest[(i+h), imodel] <- zout[1]; fquant[(i+h), ,imodel] <- zout[2:NROW(zout)]\n",
    "    \n",
    "    imodel <- \"AR(1)\"; YY <- y; XX <- lag.uni(as.matrix(y), 1); source(\"Flinreg.R\")\n",
    "    fest[(i+h), imodel] <- zout[1]; fquant[(i+h), ,imodel] <- zout[2:NROW(zout)]\n",
    "    \n",
    "    imodel <- \"LR-MF-T1\"; XX <- xF1; YY <- y; source(\"Flinreg.R\")\n",
    "    fest[(i+h), imodel] <- zout[1]; fquant[(i+h), ,imodel] <- zout[2:NROW(zout)]\n",
    "    \n",
    "    imodel <- \"LR-G-T1\"; XX <- xG1; YY <- y; source(\"Flinreg.R\")\n",
    "    fest[(i+h), imodel] <- zout[1]; fquant[(i+h), ,imodel] <- zout[2:NROW(zout)]\n",
    "    \n",
    "    imodel <- \"LR-MFGR-T1\"; XX <- xFGR1; YY <- y; source(\"Flinreg.R\")\n",
    "    fest[(i+h), imodel] <- zout[1]; fquant[(i+h), ,imodel] <- zout[2:NROW(zout)]\n",
    "    \n",
    "    imodel <- \"LR-MF-T2\"; XX <- xF2; YY <- y; source(\"Flinreg.R\")\n",
    "    fest[(i+h), imodel] <- zout[1]; fquant[(i+h), ,imodel] <- zout[2:NROW(zout)]\n",
    "    \n",
    "    imodel <- \"LR-G-T2\"; XX <- xG2; YY <- y; source(\"Flinreg.R\")\n",
    "    fest[(i+h), imodel] <- zout[1]; fquant[(i+h), ,imodel] <- zout[2:NROW(zout)]\n",
    "\n",
    "    imodel <- \"LR-MFGR-T2\"; XX <- xFGR2; YY <- y; source(\"Flinreg.R\")\n",
    "    fest[(i+h), imodel] <- zout[1]; fquant[(i+h), ,imodel] <- zout[2:NROW(zout)]\n",
    "    \n",
    "    imodel <- \"AR(1)-MF-T1\"; YY <- y; XX <- cbind(lag.uni(as.matrix(y), 1), xF1); source(\"Flinreg.R\")\n",
    "    fest[(i+h), imodel] <- zout[1]; fquant[(i+h), ,imodel] <- zout[2:NROW(zout)]\n",
    "    \n",
    "    imodel <- \"AR(1)-G-T1\"; YY <- y; XX <- cbind(lag.uni(as.matrix(y), 1), xG1); source(\"Flinreg.R\")\n",
    "    fest[(i+h), imodel] <- zout[1]; fquant[(i+h), ,imodel] <- zout[2:NROW(zout)]\n",
    "\n",
    "    imodel <- \"AR(1)-MFGR-T1\"; YY <- y; XX <- cbind(lag.uni(as.matrix(y), 1), xFGR1); source(\"Flinreg.R\")\n",
    "    fest[(i+h), imodel] <- zout[1]; fquant[(i+h), ,imodel] <- zout[2:NROW(zout)]\n",
    "    \n",
    "    imodel <- \"AR(1)-MF-T2\"; YY <- y; XX <- cbind(lag.uni(as.matrix(y), 1), xF2); source(\"Flinreg.R\")\n",
    "    fest[(i+h), imodel] <- zout[1]; fquant[(i+h), ,imodel] <- zout[2:NROW(zout)]\n",
    "    \n",
    "    imodel <- \"AR(1)-G-T2\"; YY <- y; XX <- cbind(lag.uni(as.matrix(y), 1), xG2); source(\"Flinreg.R\")\n",
    "    fest[(i+h), imodel] <- zout[1]; fquant[(i+h), ,imodel] <- zout[2:NROW(zout)]\n",
    "\n",
    "    imodel <- \"AR(1)-MFGR-T2\"; YY <- y; XX <- cbind(lag.uni(as.matrix(y), 1), xFGR2); source(\"Flinreg.R\")\n",
    "    fest[(i+h), imodel] <- zout[1]; fquant[(i+h), ,imodel] <- zout[2:NROW(zout)]\n",
    "    \n",
    "    imodel <- \"VAR(1)\"; glag <- 1\n",
    "    YY <- y; XX <- cbind(lag.uni(as.matrix(y), glag), lag.multi(xx, glag))\n",
    "    source(\"Flinreg.R\")\n",
    "    fest[(i+h), imodel] <- zout[1]; fquant[(i+h), ,imodel] <- zout[2:NROW(zout)]\n",
    "    \n",
    "    imodel <- \"VARX(1)-MF-T1\"; glag <- 1\n",
    "    YY <- y; XX <- cbind(lag.uni(as.matrix(y), glag), lag.multi(xx, glag), xF1)\n",
    "    source(\"Flinreg.R\")\n",
    "    fest[(i+h), imodel] <- zout[1]; fquant[(i+h), ,imodel] <- zout[2:NROW(zout)]\n",
    "    \n",
    "    imodel <- \"VARX(1)-G-T1\"; glag <- 1\n",
    "    YY <- y; XX <- cbind(lag.uni(as.matrix(y), glag), lag.multi(xx, glag), xG1)\n",
    "    source(\"Flinreg.R\")\n",
    "    fest[(i+h), imodel] <- zout[1]; fquant[(i+h), ,imodel] <- zout[2:NROW(zout)]\n",
    "    \n",
    "    imodel <- \"VARX(1)-MFGR-T1\"; glag <- 1\n",
    "    YY <- y; XX <- cbind(lag.uni(as.matrix(y), glag), lag.multi(xx, glag), xFGR1)\n",
    "    source(\"Flinreg.R\")\n",
    "    fest[(i+h), imodel] <- zout[1]; fquant[(i+h), ,imodel] <- zout[2:NROW(zout)]\n",
    "    \n",
    "    imodel <- \"VARX(1)-MF-T2\"; glag <- 1\n",
    "    YY <- y; XX <- cbind(lag.uni(as.matrix(y), glag), lag.multi(xx, glag), xF2)\n",
    "    source(\"Flinreg.R\")\n",
    "    fest[(i+h), imodel] <- zout[1]; fquant[(i+h), ,imodel] <- zout[2:NROW(zout)]\n",
    "    \n",
    "    imodel <- \"VARX(1)-G-T2\"; glag <- 1\n",
    "    YY <- y; XX <- cbind(lag.uni(as.matrix(y), glag), lag.multi(xx, glag), xG2)\n",
    "    source(\"Flinreg.R\")\n",
    "    fest[(i+h), imodel] <- zout[1]; fquant[(i+h), ,imodel] <- zout[2:NROW(zout)]\n",
    "    \n",
    "    imodel <- \"VARX(1)-MFGR-T2\"; glag <- 1\n",
    "    YY <- y; XX <- cbind(lag.uni(as.matrix(y), glag), lag.multi(xx, glag), xFGR2)\n",
    "    source(\"Flinreg.R\")\n",
    "    fest[(i+h), imodel] <- zout[1]; fquant[(i+h), ,imodel] <- zout[2:NROW(zout)]\n",
    "    \n",
    "    cat(\"Now doing \", i, \" of \", (NROW(XM)-h), \" and h \", h, \"\\n\")\n",
    "  }\n",
    "  \n",
    "  fwhich <- which(ZM$target==itarg)\n",
    "  ftrue <- as.matrix(XM[,fwhich])\n",
    "  ftrue <- transform.vars(ftrue, ZM$transf[fwhich])\n",
    "  \n",
    "  e <- matrix(ftrue, NROW(ftrue), NCOL(fest))-fest\n",
    "  rownames(e) <- rownames(fest)\n",
    "  colnames(e) <- colnames(fest)\n",
    "  e <- na.omit(e)\n",
    "  \n",
    "  ftrue.diff <- transform.vars(as.matrix(ftrue), 3)\n",
    "  fest.diff <- transform.vars(fest, rep(3, NCOL(fest)))\n",
    "  ss.diff <- sign(matrix(ftrue.diff, NROW(ftrue.diff), NCOL(fest.diff)))-sign(fest.diff)\n",
    "  ss.diff <- na.omit(ss.diff)\n",
    "  \n",
    "  # Save the output\n",
    "  setwd(wd3)\n",
    "  \n",
    "  ibn <- which(colnames(e)==ibench)\n",
    "  \n",
    "  MAE <- colMeans(abs(e))\n",
    "  RMSFE <- sqrt(colMeans(e^2))\n",
    "  SSR <- colMeans((ss.diff==0))\n",
    "  \n",
    "  stats1 <- cbind(MAE, RMSFE, SSR)\n",
    "  stats2 <- cbind(MAE/MAE[ibn], RMSFE/RMSFE[ibn], SSR)\n",
    "  \n",
    "  DM <- matrix(NA, NROW(stats1), 2)\n",
    "  for(j in 1:NCOL(e))\n",
    "  {\n",
    "    if(j!=ibn){\n",
    "      DM[j,1] <- dm.test(e[,j], e[,ibn], alternative = c(\"two.sided\"), h=h, power=1)$p.value\n",
    "      DM[j,2] <- dm.test(e[,j], e[,ibn], alternative = c(\"two.sided\"), h=h, power=2)$p.value\n",
    "     }\n",
    "  }\n",
    "  rownames(stats1) <- rownames(stats2) <- rownames(DM) <- mnams\n",
    "  colnames(stats1) <- colnames(stats2) <- c(\"MAE\", \"RMSFE\", \"SSR\")\n",
    "  colnames(DM) <- c(\"DMabs\", \"DMsq\")\n",
    "  \n",
    "  write.csv(e, paste(give.name, \"-error.csv\", sep=\"\"))\n",
    "  write.csv(stats2, paste(give.name, \"-stats2.csv\", sep=\"\"))\n",
    "  write.csv(DM, paste(give.name, \"-DMpval.csv\", sep=\"\"))\n",
    "  \n",
    "  # Print the density plots as well as export the graph data\n",
    "  \n",
    "  for(jj in 1:NCOL(fest))\n",
    "  {\n",
    "    print.backplots(give.name, ftrue, fest[,jj],\n",
    "                    fquant[rownames(ftrue), ,mnams[jj]], mnams[jj])\n",
    "  }\n",
    "  \n",
    "  save.image(paste(give.name, \".Rdata\", sep=\"\"))\n",
    "  \n",
    "}"
   ]
  }
 ],
 "metadata": {
  "kernelspec": {
   "display_name": "R",
   "language": "R",
   "name": "ir"
  },
  "language_info": {
   "codemirror_mode": "r",
   "file_extension": ".r",
   "mimetype": "text/x-r-source",
   "name": "R",
   "pygments_lexer": "r",
   "version": "3.6.3"
  }
 },
 "nbformat": 4,
 "nbformat_minor": 2
}
