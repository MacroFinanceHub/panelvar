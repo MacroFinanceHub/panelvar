{
 "cells": [
  {
   "cell_type": "markdown",
   "metadata": {},
   "source": [
    "### pVAR models for timely estimates $-$ Generic example running model \"single-q1\" with IT data \n",
    "\n",
    "The source code herein aims at running directly (\"source\") the `R` script [`IT-single-q1.R`](https://github.com/eurostat/panelvar/blob/master/model/IT-single-q1.R) introduced in the [`panelvar`](https://github.com/eurostat/panelvar) project.\n",
    "\n",
    "This example is generic enough and can be adapted (see variable `model` below) to run any [other model](https://github.com/eurostat/panelvar/blob/master/model) made available throughout the project."
   ]
  },
  {
   "cell_type": "code",
   "execution_count": null,
   "metadata": {},
   "outputs": [],
   "source": [
    "model = \"DE-single-m1\" #\"IT-single-q1\"\n",
    "src = paste(model, \".R\", sep=\"\")"
   ]
  },
  {
   "cell_type": "markdown",
   "metadata": {},
   "source": [
    "We define `wd1` and `wd3` within this notebook as the source code and the output directories respectively (note that those are redefined \"internally\" inside the script). The latter is created if it does not already exist:"
   ]
  },
  {
   "cell_type": "code",
   "execution_count": null,
   "metadata": {},
   "outputs": [],
   "source": [
    "wd1 <- normalizePath(\"../model\") \n",
    "wd3 <- \"../data/output/\"\n",
    "\n",
    "dir.create(file.path(wd3), showWarnings = FALSE)"
   ]
  },
  {
   "cell_type": "markdown",
   "metadata": {},
   "source": [
    "Run the calculation by \"sourcing\" the entire script:"
   ]
  },
  {
   "cell_type": "code",
   "execution_count": null,
   "metadata": {},
   "outputs": [],
   "source": [
    "# source(file.path(wd1, src, fsep=\"/\"))\n",
    "setwd(wd1)\n",
    "source(src)"
   ]
  },
  {
   "cell_type": "markdown",
   "metadata": {},
   "source": [
    "Check the output files that were created:"
   ]
  },
  {
   "cell_type": "code",
   "execution_count": null,
   "metadata": {},
   "outputs": [],
   "source": [
    "setwd(wd3)\n",
    "ofiles <- list.files(getwd())\n",
    "ofiles "
   ]
  }
 ],
 "metadata": {
  "kernelspec": {
   "display_name": "R",
   "language": "R",
   "name": "ir"
  },
  "language_info": {
   "codemirror_mode": "r",
   "file_extension": ".r",
   "mimetype": "text/x-r-source",
   "name": "R",
   "pygments_lexer": "r",
   "version": "3.6.3"
  }
 },
 "nbformat": 4,
 "nbformat_minor": 2
}
